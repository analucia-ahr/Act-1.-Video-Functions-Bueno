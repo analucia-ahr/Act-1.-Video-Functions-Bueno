{
 "cells": [
  {
   "cell_type": "code",
   "execution_count": 2,
   "metadata": {},
   "outputs": [
    {
     "ename": "error",
     "evalue": "OpenCV(4.9.0) D:\\a\\opencv-python\\opencv-python\\opencv\\modules\\highgui\\src\\window.cpp:1338: error: (-2:Unspecified error) The function is not implemented. Rebuild the library with Windows, GTK+ 2.x or Cocoa support. If you are on Ubuntu or Debian, install libgtk2.0-dev and pkg-config, then re-run cmake or configure script in function 'cvWaitKey'\n",
     "output_type": "error",
     "traceback": [
      "\u001b[1;31m---------------------------------------------------------------------------\u001b[0m",
      "\u001b[1;31merror\u001b[0m                                     Traceback (most recent call last)",
      "Cell \u001b[1;32mIn[2], line 9\u001b[0m\n\u001b[0;32m      7\u001b[0m \u001b[38;5;28;01mwhile\u001b[39;00m \u001b[38;5;28;01mTrue\u001b[39;00m:\n\u001b[0;32m      8\u001b[0m     ret, frame \u001b[38;5;241m=\u001b[39m cap\u001b[38;5;241m.\u001b[39mread()\n\u001b[1;32m----> 9\u001b[0m     \u001b[38;5;28;01mif\u001b[39;00m \u001b[43mcv2\u001b[49m\u001b[38;5;241;43m.\u001b[39;49m\u001b[43mwaitKey\u001b[49m\u001b[43m(\u001b[49m\u001b[38;5;241;43m1\u001b[39;49m\u001b[43m)\u001b[49m\u001b[38;5;241m&\u001b[39m\u001b[38;5;241m0xFF\u001b[39m \u001b[38;5;241m==\u001b[39m\u001b[38;5;28mord\u001b[39m(\u001b[38;5;124m'\u001b[39m\u001b[38;5;124mq\u001b[39m\u001b[38;5;124m'\u001b[39m) \u001b[38;5;129;01mor\u001b[39;00m ret \u001b[38;5;241m==\u001b[39m \u001b[38;5;28;01mFalse\u001b[39;00m:\n\u001b[0;32m     10\u001b[0m         \u001b[38;5;28;01mbreak\u001b[39;00m\n\u001b[0;32m     11\u001b[0m     writer\u001b[38;5;241m.\u001b[39mwrite(frame)\n",
      "\u001b[1;31merror\u001b[0m: OpenCV(4.9.0) D:\\a\\opencv-python\\opencv-python\\opencv\\modules\\highgui\\src\\window.cpp:1338: error: (-2:Unspecified error) The function is not implemented. Rebuild the library with Windows, GTK+ 2.x or Cocoa support. If you are on Ubuntu or Debian, install libgtk2.0-dev and pkg-config, then re-run cmake or configure script in function 'cvWaitKey'\n"
     ]
    }
   ],
   "source": [
    "# NORMAL VIDEO\n",
    "import cv2\n",
    "cap = cv2.VideoCapture(0)\n",
    "width = int(cap.get(cv2.CAP_PROP_FRAME_WIDTH))\n",
    "height = int(cap.get(cv2.CAP_PROP_FRAME_HEIGHT))\n",
    "writer = cv2.VideoWriter('video1.mp4', cv2.VideoWriter_fourcc(*'mp4v'), 20, (width, height))\n",
    "while True:\n",
    "    ret, frame = cap.read()\n",
    "    if cv2.waitKey(1)&0xFF ==ord('q') or ret == False:\n",
    "        break\n",
    "    writer.write(frame)\n",
    "    cv2.imshow('frame', frame)\n",
    "cap.release()\n",
    "writer.release()\n",
    "cv2.destroyAllWindows()\n"
   ]
  },
  {
   "cell_type": "code",
   "execution_count": null,
   "metadata": {},
   "outputs": [],
   "source": [
    "\n",
    "# REVERSED VIDEO\n",
    "cap_rev = cv2.VideoCapture(\"video1.mp4\")\n",
    "check, vid = cap_rev.read()\n",
    "frame_list = []\n",
    "while(check == True):\n",
    "    check, vid = cap_rev.read()\n",
    "    if check:\n",
    "        frame_list.append(vid)\n",
    "frame_list.reverse()\n",
    "writer_rev = cv2.VideoWriter('video2.mp4', cv2.VideoWriter_fourcc(*'mp4v'), 20, (width, height))\n",
    "\n",
    "for frame in frame_list:\n",
    "    cv2.imshow(\"Frame\", frame)\n",
    "    writer_rev.write(frame)\n",
    "    if cv2.waitKey(1) & 0xFF == ord('q'):\n",
    "        break\n",
    "cap.release()\n",
    "writer_rev.release()\n",
    "cv2.destroyAllWindows()\n",
    "\n",
    "# JOINED VIDEO\n",
    "videos = [\"video1.mp4\", \"video2.mp4\"]\n",
    "video = cv2.VideoWriter(\"videos_juntos.mp4\", cv2.VideoWriter_fourcc(*\"mp4v\"), 20,(width, height))\n",
    "\n",
    "for v in videos:\n",
    "    curr_v = cv2.VideoCapture(v)\n",
    "    while curr_v.isOpened():\n",
    "        r, frame = curr_v.read()\n",
    "        if not r:\n",
    "            break\n",
    "        video.write(frame)\n",
    "\n",
    "video.release()"
   ]
  }
 ],
 "metadata": {
  "kernelspec": {
   "display_name": "Python 3",
   "language": "python",
   "name": "python3"
  },
  "language_info": {
   "codemirror_mode": {
    "name": "ipython",
    "version": 3
   },
   "file_extension": ".py",
   "mimetype": "text/x-python",
   "name": "python",
   "nbconvert_exporter": "python",
   "pygments_lexer": "ipython3",
   "version": "3.12.2"
  }
 },
 "nbformat": 4,
 "nbformat_minor": 2
}
